{
 "cells": [
  {
   "cell_type": "code",
   "execution_count": 1,
   "metadata": {},
   "outputs": [],
   "source": [
    "import numpy as np\n",
    "import pandas as pd\n",
    "import matplotlib.pyplot as plt"
   ]
  },
  {
   "cell_type": "code",
   "execution_count": 2,
   "metadata": {},
   "outputs": [],
   "source": [
    "class Perceptron():\n",
    "    def __init__(self, rychlost_ucenia=0.01, pocet_iteracii=25): #self=this \n",
    "        self.eta = rychlost_ucenia #eta-grecke slovo\n",
    "        self.n_iter = pocet_iteracii # n_iter = je pocet iteracii\n",
    "    \n",
    "    def fit(self, X,y): # metoda ucenia..\n",
    "        self.vahy = np.zeros(1+ X.shape[1]) # sirka pola vah je 1+(pocet prvkov v riadku matice x), prvym prvkom je bias\n",
    "        self.errors_=[]\n",
    "        self.weights = []\n",
    "        \n",
    "        for i in range(self.n_iter):\n",
    "            errors = 0\n",
    "            for matica,vystup in zip(X,y):\n",
    "                update = self.eta * (vystup-self.predikcia(matica)) #aktualizovanie váh\n",
    "                self.vahy[1:] += update*matica\n",
    "                self.vahy[0]+= update\n",
    "                errors += int(update !=0.0)\n",
    "            self.weights.append(self.vahy*1.0)  # vahy\n",
    "            self.errors_.append(errors) # chyby\n",
    "            \n",
    "        return self  \n",
    "\n",
    "    def net_input(self, X): #vstup do neuronovej siete\n",
    "        return np.dot(X, self.vahy[1:])+ self.vahy[0]\n",
    "\n",
    "    def predikcia(self, X): #aktivacna funkcia - step function\n",
    "        return np.where(self.net_input(X) >= 0.0, 1, -1) "
   ]
  },
  {
   "cell_type": "code",
   "execution_count": 3,
   "metadata": {},
   "outputs": [],
   "source": [
    "df=pd.read_excel('102_Person_Gender_Height_Weight.xlsx')"
   ]
  },
  {
   "cell_type": "code",
   "execution_count": 4,
   "metadata": {},
   "outputs": [
    {
     "data": {
      "text/html": [
       "<div>\n",
       "<style scoped>\n",
       "    .dataframe tbody tr th:only-of-type {\n",
       "        vertical-align: middle;\n",
       "    }\n",
       "\n",
       "    .dataframe tbody tr th {\n",
       "        vertical-align: top;\n",
       "    }\n",
       "\n",
       "    .dataframe thead th {\n",
       "        text-align: right;\n",
       "    }\n",
       "</style>\n",
       "<table border=\"1\" class=\"dataframe\">\n",
       "  <thead>\n",
       "    <tr style=\"text-align: right;\">\n",
       "      <th></th>\n",
       "      <th>Gender</th>\n",
       "      <th>Height</th>\n",
       "      <th>Weight</th>\n",
       "    </tr>\n",
       "  </thead>\n",
       "  <tbody>\n",
       "    <tr>\n",
       "      <th>0</th>\n",
       "      <td>Male</td>\n",
       "      <td>185</td>\n",
       "      <td>50</td>\n",
       "    </tr>\n",
       "    <tr>\n",
       "      <th>1</th>\n",
       "      <td>Female</td>\n",
       "      <td>186</td>\n",
       "      <td>52</td>\n",
       "    </tr>\n",
       "    <tr>\n",
       "      <th>2</th>\n",
       "      <td>Female</td>\n",
       "      <td>182</td>\n",
       "      <td>55</td>\n",
       "    </tr>\n",
       "    <tr>\n",
       "      <th>3</th>\n",
       "      <td>Male</td>\n",
       "      <td>188</td>\n",
       "      <td>53</td>\n",
       "    </tr>\n",
       "    <tr>\n",
       "      <th>4</th>\n",
       "      <td>Female</td>\n",
       "      <td>189</td>\n",
       "      <td>54</td>\n",
       "    </tr>\n",
       "  </tbody>\n",
       "</table>\n",
       "</div>"
      ],
      "text/plain": [
       "   Gender  Height  Weight\n",
       "0    Male     185      50\n",
       "1  Female     186      52\n",
       "2  Female     182      55\n",
       "3    Male     188      53\n",
       "4  Female     189      54"
      ]
     },
     "execution_count": 4,
     "metadata": {},
     "output_type": "execute_result"
    }
   ],
   "source": [
    "df.head()"
   ]
  }
 ],
 "metadata": {
  "kernelspec": {
   "display_name": "Python 3",
   "language": "python",
   "name": "python3"
  },
  "language_info": {
   "codemirror_mode": {
    "name": "ipython",
    "version": 3
   },
   "file_extension": ".py",
   "mimetype": "text/x-python",
   "name": "python",
   "nbconvert_exporter": "python",
   "pygments_lexer": "ipython3",
   "version": "3.8.5"
  }
 },
 "nbformat": 4,
 "nbformat_minor": 4
}
